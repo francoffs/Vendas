{
 "cells": [
  {
   "cell_type": "code",
   "execution_count": 6,
   "metadata": {},
   "outputs": [
    {
     "data": {
      "text/html": [
       "<div>\n",
       "<style scoped>\n",
       "    .dataframe tbody tr th:only-of-type {\n",
       "        vertical-align: middle;\n",
       "    }\n",
       "\n",
       "    .dataframe tbody tr th {\n",
       "        vertical-align: top;\n",
       "    }\n",
       "\n",
       "    .dataframe thead th {\n",
       "        text-align: right;\n",
       "    }\n",
       "</style>\n",
       "<table border=\"1\" class=\"dataframe\">\n",
       "  <thead>\n",
       "    <tr style=\"text-align: right;\">\n",
       "      <th></th>\n",
       "      <th>data</th>\n",
       "      <th>id_venda</th>\n",
       "      <th>filial</th>\n",
       "      <th>vendedor</th>\n",
       "      <th>produto</th>\n",
       "      <th>cliente_nome</th>\n",
       "      <th>cliente_genero</th>\n",
       "      <th>forma_pagamento</th>\n",
       "      <th>preco</th>\n",
       "    </tr>\n",
       "  </thead>\n",
       "  <tbody>\n",
       "    <tr>\n",
       "      <th>0</th>\n",
       "      <td>2023-01-20 08:00:56.384224</td>\n",
       "      <td>0</td>\n",
       "      <td>Canoas</td>\n",
       "      <td>Luis Fernando</td>\n",
       "      <td>Tenis Nike</td>\n",
       "      <td>Sabrina Rieke</td>\n",
       "      <td>feminino</td>\n",
       "      <td>credito</td>\n",
       "      <td>300</td>\n",
       "    </tr>\n",
       "    <tr>\n",
       "      <th>1</th>\n",
       "      <td>2023-01-20 08:50:58.755843</td>\n",
       "      <td>1</td>\n",
       "      <td>Florianópolis</td>\n",
       "      <td>Mario Sérgio</td>\n",
       "      <td>Tenis Adidas</td>\n",
       "      <td>Patsy Lovell</td>\n",
       "      <td>feminino</td>\n",
       "      <td>credito</td>\n",
       "      <td>450</td>\n",
       "    </tr>\n",
       "    <tr>\n",
       "      <th>2</th>\n",
       "      <td>2023-01-20 11:44:56.776745</td>\n",
       "      <td>2</td>\n",
       "      <td>Canoas</td>\n",
       "      <td>Carlos Henrique</td>\n",
       "      <td>Tenis Adidas</td>\n",
       "      <td>John Crandall</td>\n",
       "      <td>masculino</td>\n",
       "      <td>credito</td>\n",
       "      <td>450</td>\n",
       "    </tr>\n",
       "    <tr>\n",
       "      <th>3</th>\n",
       "      <td>2023-01-20 12:07:58.025749</td>\n",
       "      <td>3</td>\n",
       "      <td>Caxias do Sul</td>\n",
       "      <td>Rodrigo Vanzeloti</td>\n",
       "      <td>Tenis Adidas</td>\n",
       "      <td>Mildred Mcleod</td>\n",
       "      <td>feminino</td>\n",
       "      <td>credito</td>\n",
       "      <td>450</td>\n",
       "    </tr>\n",
       "    <tr>\n",
       "      <th>4</th>\n",
       "      <td>2023-01-20 12:49:56.606703</td>\n",
       "      <td>4</td>\n",
       "      <td>São Paulo</td>\n",
       "      <td>Cassia Moraes</td>\n",
       "      <td>Tenis NB</td>\n",
       "      <td>Robert Mccormick</td>\n",
       "      <td>masculino</td>\n",
       "      <td>credito</td>\n",
       "      <td>500</td>\n",
       "    </tr>\n",
       "    <tr>\n",
       "      <th>5</th>\n",
       "      <td>2023-01-20 14:01:58.316971</td>\n",
       "      <td>5</td>\n",
       "      <td>Caxias do Sul</td>\n",
       "      <td>Mateus Kienzle</td>\n",
       "      <td>Tenis NB</td>\n",
       "      <td>Richard Kaeo</td>\n",
       "      <td>masculino</td>\n",
       "      <td>pix</td>\n",
       "      <td>500</td>\n",
       "    </tr>\n",
       "    <tr>\n",
       "      <th>6</th>\n",
       "      <td>2023-01-20 14:37:56.577837</td>\n",
       "      <td>6</td>\n",
       "      <td>Lajeado</td>\n",
       "      <td>Juliano Faccioni</td>\n",
       "      <td>Tenis Fila</td>\n",
       "      <td>Carl Aurand</td>\n",
       "      <td>masculino</td>\n",
       "      <td>boleto</td>\n",
       "      <td>250</td>\n",
       "    </tr>\n",
       "    <tr>\n",
       "      <th>7</th>\n",
       "      <td>2023-01-20 15:16:57.086366</td>\n",
       "      <td>7</td>\n",
       "      <td>São Paulo</td>\n",
       "      <td>Claudio Bueno</td>\n",
       "      <td>Tenis NB</td>\n",
       "      <td>Rita Hess</td>\n",
       "      <td>feminino</td>\n",
       "      <td>credito</td>\n",
       "      <td>500</td>\n",
       "    </tr>\n",
       "    <tr>\n",
       "      <th>8</th>\n",
       "      <td>2023-01-21 08:38:58.394180</td>\n",
       "      <td>8</td>\n",
       "      <td>São Paulo</td>\n",
       "      <td>Claudio Bueno</td>\n",
       "      <td>Tenis Fila</td>\n",
       "      <td>Lenny Harpster</td>\n",
       "      <td>masculino</td>\n",
       "      <td>credito</td>\n",
       "      <td>250</td>\n",
       "    </tr>\n",
       "    <tr>\n",
       "      <th>9</th>\n",
       "      <td>2023-01-21 10:53:58.316645</td>\n",
       "      <td>9</td>\n",
       "      <td>Canoas</td>\n",
       "      <td>Luis Fernando</td>\n",
       "      <td>Tenis Fila</td>\n",
       "      <td>Herman Lee</td>\n",
       "      <td>masculino</td>\n",
       "      <td>credito</td>\n",
       "      <td>250</td>\n",
       "    </tr>\n",
       "  </tbody>\n",
       "</table>\n",
       "</div>"
      ],
      "text/plain": [
       "                         data  id_venda         filial           vendedor  \\\n",
       "0  2023-01-20 08:00:56.384224         0         Canoas      Luis Fernando   \n",
       "1  2023-01-20 08:50:58.755843         1  Florianópolis       Mario Sérgio   \n",
       "2  2023-01-20 11:44:56.776745         2         Canoas    Carlos Henrique   \n",
       "3  2023-01-20 12:07:58.025749         3  Caxias do Sul  Rodrigo Vanzeloti   \n",
       "4  2023-01-20 12:49:56.606703         4      São Paulo      Cassia Moraes   \n",
       "5  2023-01-20 14:01:58.316971         5  Caxias do Sul     Mateus Kienzle   \n",
       "6  2023-01-20 14:37:56.577837         6        Lajeado   Juliano Faccioni   \n",
       "7  2023-01-20 15:16:57.086366         7      São Paulo      Claudio Bueno   \n",
       "8  2023-01-21 08:38:58.394180         8      São Paulo      Claudio Bueno   \n",
       "9  2023-01-21 10:53:58.316645         9         Canoas      Luis Fernando   \n",
       "\n",
       "        produto      cliente_nome cliente_genero forma_pagamento  preco  \n",
       "0    Tenis Nike     Sabrina Rieke       feminino         credito    300  \n",
       "1  Tenis Adidas      Patsy Lovell       feminino         credito    450  \n",
       "2  Tenis Adidas     John Crandall      masculino         credito    450  \n",
       "3  Tenis Adidas    Mildred Mcleod       feminino         credito    450  \n",
       "4      Tenis NB  Robert Mccormick      masculino         credito    500  \n",
       "5      Tenis NB      Richard Kaeo      masculino             pix    500  \n",
       "6    Tenis Fila       Carl Aurand      masculino          boleto    250  \n",
       "7      Tenis NB         Rita Hess       feminino         credito    500  \n",
       "8    Tenis Fila    Lenny Harpster      masculino         credito    250  \n",
       "9    Tenis Fila        Herman Lee      masculino         credito    250  "
      ]
     },
     "execution_count": 6,
     "metadata": {},
     "output_type": "execute_result"
    }
   ],
   "source": [
    "import pandas as pd\n",
    "df_vendas = pd.read_csv('vendas.csv', sep=';', decimal=',')\n",
    "df_produtos = pd.read_csv('produtos.csv', sep=';', decimal=',', index_col=0)\n",
    "\n",
    "df_produtos = df_produtos.rename(columns={'nome': 'produto'})\n",
    "df_produtos = df_produtos[['produto', 'preco']]\n",
    "df_vendas = pd.merge(left=df_vendas,\n",
    "                     right=df_produtos,\n",
    "                     on='produto',\n",
    "                     how='left')\n",
    "\n",
    "df_vendas.head(10)\n",
    "\n",
    "\n"
   ]
  },
  {
   "cell_type": "markdown",
   "metadata": {},
   "source": [
    "vendo características gerais dos dados"
   ]
  },
  {
   "cell_type": "code",
   "execution_count": 7,
   "metadata": {},
   "outputs": [
    {
     "data": {
      "text/html": [
       "<div>\n",
       "<style scoped>\n",
       "    .dataframe tbody tr th:only-of-type {\n",
       "        vertical-align: middle;\n",
       "    }\n",
       "\n",
       "    .dataframe tbody tr th {\n",
       "        vertical-align: top;\n",
       "    }\n",
       "\n",
       "    .dataframe thead th {\n",
       "        text-align: right;\n",
       "    }\n",
       "</style>\n",
       "<table border=\"1\" class=\"dataframe\">\n",
       "  <thead>\n",
       "    <tr style=\"text-align: right;\">\n",
       "      <th></th>\n",
       "      <th>id_venda</th>\n",
       "      <th>preco</th>\n",
       "    </tr>\n",
       "  </thead>\n",
       "  <tbody>\n",
       "    <tr>\n",
       "      <th>count</th>\n",
       "      <td>2001.000000</td>\n",
       "      <td>2001.000000</td>\n",
       "    </tr>\n",
       "    <tr>\n",
       "      <th>mean</th>\n",
       "      <td>1000.000000</td>\n",
       "      <td>374.562719</td>\n",
       "    </tr>\n",
       "    <tr>\n",
       "      <th>std</th>\n",
       "      <td>577.783264</td>\n",
       "      <td>103.453474</td>\n",
       "    </tr>\n",
       "    <tr>\n",
       "      <th>min</th>\n",
       "      <td>0.000000</td>\n",
       "      <td>250.000000</td>\n",
       "    </tr>\n",
       "    <tr>\n",
       "      <th>25%</th>\n",
       "      <td>500.000000</td>\n",
       "      <td>250.000000</td>\n",
       "    </tr>\n",
       "    <tr>\n",
       "      <th>50%</th>\n",
       "      <td>1000.000000</td>\n",
       "      <td>300.000000</td>\n",
       "    </tr>\n",
       "    <tr>\n",
       "      <th>75%</th>\n",
       "      <td>1500.000000</td>\n",
       "      <td>500.000000</td>\n",
       "    </tr>\n",
       "    <tr>\n",
       "      <th>max</th>\n",
       "      <td>2000.000000</td>\n",
       "      <td>500.000000</td>\n",
       "    </tr>\n",
       "  </tbody>\n",
       "</table>\n",
       "</div>"
      ],
      "text/plain": [
       "          id_venda        preco\n",
       "count  2001.000000  2001.000000\n",
       "mean   1000.000000   374.562719\n",
       "std     577.783264   103.453474\n",
       "min       0.000000   250.000000\n",
       "25%     500.000000   250.000000\n",
       "50%    1000.000000   300.000000\n",
       "75%    1500.000000   500.000000\n",
       "max    2000.000000   500.000000"
      ]
     },
     "execution_count": 7,
     "metadata": {},
     "output_type": "execute_result"
    }
   ],
   "source": [
    "df_vendas.describe()"
   ]
  },
  {
   "cell_type": "markdown",
   "metadata": {},
   "source": [
    ".info\n"
   ]
  },
  {
   "cell_type": "code",
   "execution_count": 8,
   "metadata": {},
   "outputs": [
    {
     "name": "stdout",
     "output_type": "stream",
     "text": [
      "<class 'pandas.core.frame.DataFrame'>\n",
      "RangeIndex: 2001 entries, 0 to 2000\n",
      "Data columns (total 9 columns):\n",
      " #   Column           Non-Null Count  Dtype \n",
      "---  ------           --------------  ----- \n",
      " 0   data             2001 non-null   object\n",
      " 1   id_venda         2001 non-null   int64 \n",
      " 2   filial           2001 non-null   object\n",
      " 3   vendedor         2001 non-null   object\n",
      " 4   produto          2001 non-null   object\n",
      " 5   cliente_nome     2001 non-null   object\n",
      " 6   cliente_genero   2001 non-null   object\n",
      " 7   forma_pagamento  2001 non-null   object\n",
      " 8   preco            2001 non-null   int64 \n",
      "dtypes: int64(2), object(7)\n",
      "memory usage: 140.8+ KB\n"
     ]
    }
   ],
   "source": [
    "df_vendas.info()"
   ]
  },
  {
   "cell_type": "markdown",
   "metadata": {},
   "source": [
    "contando valores únicos"
   ]
  },
  {
   "cell_type": "code",
   "execution_count": 9,
   "metadata": {},
   "outputs": [
    {
     "data": {
      "text/plain": [
       "filial\n",
       "Florianópolis      349\n",
       "São Paulo          343\n",
       "Canoas             337\n",
       "Porto Alegre       335\n",
       "Lajeado            325\n",
       "Caxias do Sul      311\n",
       "Porto Alegre/RS      1\n",
       "Name: count, dtype: int64"
      ]
     },
     "execution_count": 9,
     "metadata": {},
     "output_type": "execute_result"
    }
   ],
   "source": [
    "df_vendas['filial'].value_counts()"
   ]
  },
  {
   "cell_type": "code",
   "execution_count": 10,
   "metadata": {},
   "outputs": [
    {
     "data": {
      "text/plain": [
       "filial\n",
       "Florianópolis      0.174413\n",
       "São Paulo          0.171414\n",
       "Canoas             0.168416\n",
       "Porto Alegre       0.167416\n",
       "Lajeado            0.162419\n",
       "Caxias do Sul      0.155422\n",
       "Porto Alegre/RS    0.000500\n",
       "Name: proportion, dtype: float64"
      ]
     },
     "execution_count": 10,
     "metadata": {},
     "output_type": "execute_result"
    }
   ],
   "source": [
    "df_vendas['filial'].value_counts(normalize=True)"
   ]
  },
  {
   "cell_type": "code",
   "execution_count": 11,
   "metadata": {},
   "outputs": [
    {
     "data": {
      "text/plain": [
       "array(['Canoas', 'Florianópolis', 'Caxias do Sul', 'São Paulo', 'Lajeado',\n",
       "       'Porto Alegre', 'Porto Alegre/RS'], dtype=object)"
      ]
     },
     "execution_count": 11,
     "metadata": {},
     "output_type": "execute_result"
    }
   ],
   "source": [
    "df_vendas['filial'].unique()"
   ]
  },
  {
   "cell_type": "code",
   "execution_count": 14,
   "metadata": {},
   "outputs": [
    {
     "data": {
      "text/plain": [
       "data               2023-01-20 08:00:56.3842242023-01-20 08:50:58....\n",
       "id_venda                                                     2001000\n",
       "filial             CanoasFlorianópolisCanoasCaxias do SulSão Paul...\n",
       "vendedor           Luis FernandoMario SérgioCarlos HenriqueRodrig...\n",
       "produto            Tenis NikeTenis AdidasTenis AdidasTenis Adidas...\n",
       "cliente_nome       Sabrina RiekePatsy LovellJohn CrandallMildred ...\n",
       "cliente_genero     femininofemininomasculinofemininomasculinomasc...\n",
       "forma_pagamento    creditocreditocreditocreditocreditopixboletocr...\n",
       "preco                                                         749500\n",
       "dtype: object"
      ]
     },
     "execution_count": 14,
     "metadata": {},
     "output_type": "execute_result"
    }
   ],
   "source": [
    "df_vendas.sum()"
   ]
  },
  {
   "cell_type": "code",
   "execution_count": null,
   "metadata": {},
   "outputs": [],
   "source": []
  }
 ],
 "metadata": {
  "kernelspec": {
   "display_name": "Python 3",
   "language": "python",
   "name": "python3"
  },
  "language_info": {
   "codemirror_mode": {
    "name": "ipython",
    "version": 3
   },
   "file_extension": ".py",
   "mimetype": "text/x-python",
   "name": "python",
   "nbconvert_exporter": "python",
   "pygments_lexer": "ipython3",
   "version": "3.12.4"
  }
 },
 "nbformat": 4,
 "nbformat_minor": 2
}
